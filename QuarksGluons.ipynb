{
  "nbformat": 4,
  "nbformat_minor": 0,
  "metadata": {
    "colab": {
      "provenance": [],
      "mount_file_id": "1AHfeMf94apxZ6pYNF8mx-ezpESxi78NE",
      "authorship_tag": "ABX9TyO60zCeR6kKSYO+DufhLaVx",
      "include_colab_link": true
    },
    "kernelspec": {
      "name": "python3",
      "display_name": "Python 3"
    },
    "language_info": {
      "name": "python"
    }
  },
  "cells": [
    {
      "cell_type": "markdown",
      "metadata": {
        "id": "view-in-github",
        "colab_type": "text"
      },
      "source": [
        "<a href=\"https://colab.research.google.com/github/itspriiyanshu/SpringML/blob/main/QuarksGluons.ipynb\" target=\"_parent\"><img src=\"https://colab.research.google.com/assets/colab-badge.svg\" alt=\"Open In Colab\"/></a>"
      ]
    },
    {
      "cell_type": "code",
      "source": [
        "!pip uninstall scikit-learn -y\n",
        "!pip install scikit-learn==1.3.2"
      ],
      "metadata": {
        "colab": {
          "base_uri": "https://localhost:8080/",
          "height": 365
        },
        "id": "_4_6Z5M0hZ6z",
        "outputId": "593a986e-56cc-4953-b46a-a9636a56fbfa"
      },
      "execution_count": null,
      "outputs": [
        {
          "output_type": "stream",
          "name": "stdout",
          "text": [
            "Found existing installation: scikit-learn 1.6.0\n",
            "Uninstalling scikit-learn-1.6.0:\n",
            "  Successfully uninstalled scikit-learn-1.6.0\n",
            "Collecting scikit-learn==1.3.2\n",
            "  Downloading scikit_learn-1.3.2-cp310-cp310-manylinux_2_17_x86_64.manylinux2014_x86_64.whl.metadata (11 kB)\n",
            "Requirement already satisfied: numpy<2.0,>=1.17.3 in /usr/local/lib/python3.10/dist-packages (from scikit-learn==1.3.2) (1.26.4)\n",
            "Requirement already satisfied: scipy>=1.5.0 in /usr/local/lib/python3.10/dist-packages (from scikit-learn==1.3.2) (1.13.1)\n",
            "Requirement already satisfied: joblib>=1.1.1 in /usr/local/lib/python3.10/dist-packages (from scikit-learn==1.3.2) (1.4.2)\n",
            "Requirement already satisfied: threadpoolctl>=2.0.0 in /usr/local/lib/python3.10/dist-packages (from scikit-learn==1.3.2) (3.5.0)\n",
            "Downloading scikit_learn-1.3.2-cp310-cp310-manylinux_2_17_x86_64.manylinux2014_x86_64.whl (10.8 MB)\n",
            "\u001b[2K   \u001b[90m━━━━━━━━━━━━━━━━━━━━━━━━━━━━━━━━━━━━━━━━\u001b[0m \u001b[32m10.8/10.8 MB\u001b[0m \u001b[31m47.3 MB/s\u001b[0m eta \u001b[36m0:00:00\u001b[0m\n",
            "\u001b[?25hInstalling collected packages: scikit-learn\n",
            "Successfully installed scikit-learn-1.3.2\n"
          ]
        },
        {
          "output_type": "display_data",
          "data": {
            "application/vnd.colab-display-data+json": {
              "pip_warning": {
                "packages": [
                  "sklearn"
                ]
              },
              "id": "a89720d6902a404aa938b64af0cc6ba1"
            }
          },
          "metadata": {}
        }
      ]
    },
    {
      "cell_type": "markdown",
      "source": [
        "# **Load Dataset & Preprocess**\n",
        "We start by removing nil rows and convert given particle level features (p_T, Rapidity, Azimuthal Angle, PDG ID) to jet level by taking seperate means for given 4 features of all particles (135-nil) for each jet"
      ],
      "metadata": {
        "id": "6tJ6emF2WRnA"
      }
    },
    {
      "cell_type": "code",
      "execution_count": null,
      "metadata": {
        "colab": {
          "base_uri": "https://localhost:8080/"
        },
        "id": "jH-eW3cXlVuJ",
        "outputId": "ed908450-0825-4b29-adc4-561207bb960f"
      },
      "outputs": [
        {
          "output_type": "stream",
          "name": "stdout",
          "text": [
            "['X', 'y']\n",
            "[[ 2.78231806e+01 -1.77256379e-02  4.71509695e+00 -8.77777778e+00]\n",
            " [ 3.12828409e+01  1.66467043e-01  3.02062727e+00 -9.88235294e+00]\n",
            " [ 8.89669563e+00 -1.37702443e+00  4.87845109e-01 -6.43157895e+01]\n",
            " ...\n",
            " [ 3.42609492e+01  1.01293798e+00  4.56279076e+00 -1.03687500e+02]\n",
            " [ 6.20155106e+00  2.58253519e-01  3.87450781e+00 -1.13863636e+01]\n",
            " [ 1.36461232e+01  1.03797887e+00  1.37801151e+00  3.23250000e+01]]\n"
          ]
        }
      ],
      "source": [
        "import pandas as pd\n",
        "import numpy as np\n",
        "\n",
        "data=np.load('/content/drive/MyDrive/Colab Notebooks/QG_jets.npz')\n",
        "print(data.files)\n",
        "inputs=data['X']\n",
        "njets=100000\n",
        "inputs=inputs[:njets]\n",
        "inputs_filtered=[]\n",
        "\n",
        "X=np.zeros((len(inputs),4))\n",
        "for i in range(len(inputs)):\n",
        "  mask = ~(inputs[i] == 0).all(axis=1)\n",
        "  inputs_filtered=(inputs[i][mask])\n",
        "  X[i][0]=np.mean(inputs_filtered[:,0])\n",
        "  X[i][1]=np.mean(inputs_filtered[:,1])\n",
        "  X[i][2]=np.mean(inputs_filtered[:,2])\n",
        "  X[i][3]=np.mean(inputs_filtered[:,3])\n",
        "inputs=X\n",
        "# inputs=inputs_filtered\n",
        "\n",
        "# print(inputs.size)\n",
        "# print(inputs_filtered)\n",
        "target=data['y']\n",
        "target=target[:njets]\n",
        "print(inputs)\n",
        "# print(target)"
      ]
    },
    {
      "cell_type": "markdown",
      "source": [
        "# Test Train Split"
      ],
      "metadata": {
        "id": "mlN72SLuX4e9"
      }
    },
    {
      "cell_type": "code",
      "source": [
        "from sklearn.model_selection import train_test_split\n",
        "X_train, X_test, y_train, y_test = train_test_split(inputs,target,test_size=0.2,random_state=42)"
      ],
      "metadata": {
        "id": "oaFs9_2qoZOy"
      },
      "execution_count": null,
      "outputs": []
    },
    {
      "cell_type": "markdown",
      "source": [
        "\n",
        "Ran it to find suitable hyperparams for XGBoost\n",
        "\n",
        "*AI Generated*"
      ],
      "metadata": {
        "id": "x6nQLUpWfZou"
      }
    },
    {
      "source": [
        "from sklearn.model_selection import RandomizedSearchCV\n",
        "from scipy.stats import randint\n",
        "import xgboost as xgb\n",
        "\n",
        "# Define XGBoost model\n",
        "model = xgb.XGBClassifier(objective='binary:logistic', n_estimators=100)\n",
        "\n",
        "# Define the hyperparameter search space\n",
        "param_dist = {\n",
        "    'max_depth': randint(3, 7),\n",
        "    'learning_rate': [0.05, 0.1, 0.15],\n",
        "    'n_estimators': randint(50, 200),\n",
        "    'subsample': [0.8, 0.9, 1],\n",
        "    'colsample_bytree': [0.7, 0.8, 1],\n",
        "    'min_child_weight': randint(1, 5),\n",
        "    'gamma': [0, 1],\n",
        "    'lambda': [0, 1, 10],\n",
        "    'alpha': [0, 1]\n",
        "}\n",
        "\n",
        "# Perform RandomizedSearchCV\n",
        "random_search = RandomizedSearchCV(estimator=model, param_distributions=param_dist, n_iter=50, cv=3, verbose=2, random_state=42, n_jobs=-1)\n",
        "random_search.fit(X_train, y_train)\n",
        "print(\"Best hyperparameters found: \", random_search.best_params_)\n",
        "best_model = random_search.best_estimator_\n",
        "accuracy = best_model.score(X_test, y_test)\n",
        "print(f\"Accuracy of the best model: {accuracy:.2f}\")\n"
      ],
      "cell_type": "code",
      "metadata": {
        "colab": {
          "base_uri": "https://localhost:8080/"
        },
        "id": "KlLI4cP8Hz0x",
        "outputId": "fa74ee44-5c34-4074-cf29-a7dbac00ca7b"
      },
      "execution_count": null,
      "outputs": [
        {
          "output_type": "stream",
          "name": "stdout",
          "text": [
            "Fitting 3 folds for each of 50 candidates, totalling 150 fits\n",
            "Best hyperparameters found:  {'alpha': 0, 'colsample_bytree': 0.7, 'gamma': 0, 'lambda': 10, 'learning_rate': 0.05, 'max_depth': 3, 'min_child_weight': 3, 'n_estimators': 171, 'subsample': 1}\n",
            "Accuracy of the best model: 0.77\n"
          ]
        }
      ]
    },
    {
      "cell_type": "markdown",
      "source": [
        "## Implement XGBoost Classifier\n",
        "\n"
      ],
      "metadata": {
        "id": "Y5qlr5EAY4tU"
      }
    },
    {
      "cell_type": "code",
      "source": [
        "from xgboost import XGBClassifier\n",
        "\n",
        "# XGBoost model\n",
        "model = XGBClassifier(n_estimators=171,learning_rate=0.05,max_depth=3,min_child_weight=3,subsample=1,random_state=42)\n",
        "model.fit(X_train,y_train)\n",
        "accuracy=model.score(X_test,y_test)\n",
        "print(f\"Accuracy: {accuracy}\")"
      ],
      "metadata": {
        "colab": {
          "base_uri": "https://localhost:8080/"
        },
        "id": "DyNIl0h8GOSU",
        "outputId": "33361ab3-5943-40a9-bfc8-11e967103d5d"
      },
      "execution_count": null,
      "outputs": [
        {
          "output_type": "stream",
          "name": "stdout",
          "text": [
            "Accuracy: 0.77065\n"
          ]
        }
      ]
    }
  ]
}