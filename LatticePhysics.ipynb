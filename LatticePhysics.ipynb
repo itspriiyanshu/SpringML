{
  "nbformat": 4,
  "nbformat_minor": 0,
  "metadata": {
    "colab": {
      "provenance": [],
      "gpuType": "T4",
      "mount_file_id": "1q6vTFeS_31k7g-2M9nOiSdY0jaGP2oMk",
      "authorship_tag": "ABX9TyNN2cIE0hVl55FmtcZjXt+j",
      "include_colab_link": true
    },
    "kernelspec": {
      "name": "python3",
      "display_name": "Python 3"
    },
    "language_info": {
      "name": "python"
    },
    "accelerator": "GPU"
  },
  "cells": [
    {
      "cell_type": "markdown",
      "metadata": {
        "id": "view-in-github",
        "colab_type": "text"
      },
      "source": [
        "<a href=\"https://colab.research.google.com/github/itspriiyanshu/SpringML/blob/main/LatticePhysics.ipynb\" target=\"_parent\"><img src=\"https://colab.research.google.com/assets/colab-badge.svg\" alt=\"Open In Colab\"/></a>"
      ]
    },
    {
      "cell_type": "markdown",
      "source": [
        "# **Load Data & Preprocess**\n",
        "\n",
        "*partial use of AI to convert given data in required format*"
      ],
      "metadata": {
        "id": "zCtFU2Zco0jY"
      }
    },
    {
      "cell_type": "code",
      "execution_count": 2,
      "metadata": {
        "colab": {
          "base_uri": "https://localhost:8080/"
        },
        "id": "TMhNJXc-OJ-K",
        "outputId": "6b764663-9edb-4469-a6ce-c6aaca1613c6"
      },
      "outputs": [
        {
          "output_type": "stream",
          "name": "stdout",
          "text": [
            "         1         2         3         4         5         6         7  \\\n",
            "0  1.32630  1.862086  3.562615  1.112359  4.208065  1.412679  2.271031   \n",
            "1  1.34149  1.786558  2.354766  1.047929  2.268974  4.637777  3.793194   \n",
            "2  1.33034  1.826187  3.037997  4.719517  1.502280  3.644736  3.575727   \n",
            "3  1.35653  1.739225  4.412804  2.220680  3.132738  1.327124  4.759890   \n",
            "4  1.30190  1.955829  2.790669  0.798177  1.231750  1.977844  2.393930   \n",
            "\n",
            "          8         9        10  ...        32        33        34        35  \\\n",
            "0  3.950614  3.627032  4.600332  ...  3.965987  4.030999  0.826347  2.088521   \n",
            "1  2.859702  4.361058  3.592485  ...  2.228000  4.837370  2.846538  3.413201   \n",
            "2  1.337686  2.380347  4.503771  ...  2.615278  3.757999  3.161658  4.996056   \n",
            "3  2.882082  3.663430  4.531524  ...  3.899026  1.018926  4.379308  3.280298   \n",
            "4  4.738126  1.364743  3.391665  ...  3.641512  1.564076  2.178406  2.754888   \n",
            "\n",
            "         36        37        38        39        40        41  \n",
            "0  4.088550  1.184149  2.780985  2.865400  4.773820  3.539373  \n",
            "1  4.154079  4.700800  3.597879  4.681148  3.215494  3.972672  \n",
            "2  3.339642  2.548468  4.417111  1.375554  4.363320  2.988546  \n",
            "3  3.916281  3.179922  3.769315  0.849544  2.508179  0.912272  \n",
            "4  4.007165  0.702069  4.064682  1.370575  0.769475  1.395959  \n",
            "\n",
            "[5 rows x 41 columns]\n",
            "         1         2         3         4         5         6         7  \\\n",
            "0  1.31526  1.942942  3.461677  4.715116  2.970301  1.643100  4.318599   \n",
            "1  1.32538  1.875033  4.695837  3.290033  2.084698  2.192282  3.748708   \n",
            "2  1.31447  1.950208  0.704500  1.087658  3.221880  3.732234  2.193904   \n",
            "3  1.33335  1.861487  1.489137  4.173308  4.515343  2.418054  1.374868   \n",
            "4  1.30665  2.053154  2.269668  1.939778  3.864722  2.441917  1.800442   \n",
            "\n",
            "          8         9        10  ...        32        33        34        35  \\\n",
            "0  4.730346  1.396436  3.412348  ...  3.628160  2.331852  4.938357  0.822899   \n",
            "1  1.427262  1.967644  1.501517  ...  1.550515  2.861483  1.589055  1.289048   \n",
            "2  1.087210  2.807282  4.151050  ...  2.548933  3.724919  1.099994  4.636086   \n",
            "3  1.279876  2.814853  1.159432  ...  3.250012  4.938157  1.781193  2.384471   \n",
            "4  3.994055  4.624342  3.795094  ...  3.894063  2.790671  1.649336  0.777678   \n",
            "\n",
            "         36        37        38        39        40        41  \n",
            "0  1.720186  0.929271  3.467537  3.723372  1.285835  4.705696  \n",
            "1  3.672206  4.137201  4.721755  3.431719  4.975996  3.849410  \n",
            "2  1.663078  2.935144  0.809358  4.118608  2.462370  3.533541  \n",
            "3  1.850245  2.847488  4.538738  3.427749  4.357429  2.756766  \n",
            "4  1.943276  1.407025  0.890125  3.535506  0.919267  3.109842  \n",
            "\n",
            "[5 rows x 41 columns]\n"
          ]
        }
      ],
      "source": [
        "import pandas as pd\n",
        "raw='/content/drive/MyDrive/task1/raw.csv'\n",
        "tes='/content/drive/MyDrive/task1/test.csv'\n",
        "\n",
        "import csv\n",
        "\n",
        "with open(raw, mode='r') as infile:\n",
        "    reader = infile.readlines()\n",
        "with open('output.csv', mode='w', newline='') as outfile:\n",
        "    writer = csv.writer(outfile)\n",
        "\n",
        "    for line in reader:\n",
        "        row = line.strip().split()\n",
        "        writer.writerow(row)\n",
        "\n",
        "with open(tes, mode='r') as infile:\n",
        "    reader = infile.readlines()\n",
        "with open('toutput.csv', mode='w', newline='') as outfile:\n",
        "    writer = csv.writer(outfile)\n",
        "\n",
        "    for line in reader:\n",
        "        row = line.strip().split()\n",
        "        writer.writerow(row)\n",
        "\n",
        "data=pd.read_csv('output.csv')\n",
        "data=pd.DataFrame([data.columns.tolist()] + data.values.tolist(), columns=data.columns)\n",
        "data.columns = [f\"{i}\" for i in range(1,len(data.columns)+1)]\n",
        "test=pd.read_csv('toutput.csv')\n",
        "# data=pd.DataFrame([data.columns.tolist()] + data.values.tolist(), columns=data.columns)\n",
        "data.columns = [f\"{i}\" for i in range(1,len(data.columns)+1)]\n",
        "test=pd.DataFrame([test.columns.tolist()] + test.values.tolist(), columns=test.columns)\n",
        "test.columns = [f\"{i}\" for i in range(1,len(test.columns)+1)]\n",
        "data=data.astype(float)\n",
        "test=test.astype(float)\n",
        "print(data.head())\n",
        "print(test.head())"
      ]
    },
    {
      "cell_type": "markdown",
      "source": [
        "# Target Finder\n",
        "\n",
        "This was used to find which columns stored pppf and infinite multp factor\n",
        "PPPF varies less with change in enrichments thats why **column 1** was concluded as *PPPF* and **column 2** as *Infinite multiplication Factor*"
      ],
      "metadata": {
        "id": "9Eh50nTfpOcC"
      }
    },
    {
      "cell_type": "code",
      "source": [
        "for column in data.columns:\n",
        "    print(f\"{data[column].min()} {data[column].max()}\")"
      ],
      "metadata": {
        "id": "hJFIhYhFmlFK",
        "colab": {
          "base_uri": "https://localhost:8080/"
        },
        "outputId": "b02ff613-cf1e-4949-ee1e-2ab5ee2ce604"
      },
      "execution_count": 3,
      "outputs": [
        {
          "output_type": "stream",
          "name": "stdout",
          "text": [
            "1.24636 1.38558\n",
            "1.527496969 2.473014851\n",
            "0.700054704 4.999536813\n",
            "0.700098396 4.999780749\n",
            "0.700080099 4.999613279\n",
            "0.700019124 4.999984334\n",
            "0.70007869 4.999956445\n",
            "0.700042135 4.999744686\n",
            "0.700168531 4.999929869\n",
            "0.700151708 4.999936387\n",
            "0.700003153 4.999522511\n",
            "0.700646834 4.999215735\n",
            "0.700003604 4.999806022\n",
            "0.700096098 4.999935089\n",
            "0.700040118 4.999985738\n",
            "0.70024432 4.999594618\n",
            "0.700024907 4.999976358\n",
            "0.700629118 4.999804843\n",
            "0.700038 4.999885631\n",
            "0.700031289 4.99971609\n",
            "0.700089027 4.999991759\n",
            "0.700017489 4.999903592\n",
            "0.700027186 4.999935397\n",
            "0.700222528 4.999771486\n",
            "0.700372403 4.999918904\n",
            "0.70021674 4.999120787\n",
            "0.70000635 4.999931766\n",
            "0.700023571 4.999960257\n",
            "0.700065952 4.999999766\n",
            "0.700014398 4.999861181\n",
            "0.700421034 4.999986156\n",
            "0.700020701 4.999780033\n",
            "0.700129303 4.999927243\n",
            "0.700025867 4.999774372\n",
            "0.700084075 4.999744054\n",
            "0.700008411 4.999909813\n",
            "0.700254262 4.999664648\n",
            "0.700188015 4.999366692\n",
            "0.700111849 4.99986605\n",
            "0.700101404 4.999340334\n",
            "0.700251291 4.999952161\n"
          ]
        }
      ]
    },
    {
      "cell_type": "code",
      "source": [
        "#Assign test and train data\n",
        "\n",
        "X_train=data.drop(columns=['1','2'])\n",
        "X_test=test.drop(columns=[\"1\",\"2\"])\n",
        "y_train=data[['1','2']]\n",
        "y_test=test[['1','2']]"
      ],
      "metadata": {
        "id": "wOUcbDFc7nTc"
      },
      "execution_count": 4,
      "outputs": []
    },
    {
      "cell_type": "markdown",
      "source": [
        "# **BUILD NN**\n",
        "Some utilization of AI for syntax"
      ],
      "metadata": {
        "id": "jyHhtV2ppgy8"
      }
    },
    {
      "cell_type": "code",
      "source": [
        "import tensorflow as tf\n",
        "from tensorflow.keras.models import Sequential\n",
        "from tensorflow.keras.layers import Dense\n",
        "from tensorflow.keras.callbacks import EarlyStopping\n",
        "\n",
        "model = Sequential([\n",
        "    Dense(64, activation='relu', input_dim=39),\n",
        "    Dense(32, activation='relu'),\n",
        "    Dense(16, activation='relu'),\n",
        "    Dense(2)\n",
        "])\n",
        "\n",
        "early_stopping = EarlyStopping(\n",
        "    monitor='val_loss',\n",
        "    patience=10,\n",
        "    restore_best_weights=True\n",
        ")\n",
        "\n",
        "model.compile(optimizer='adam', loss='mse', metrics=['mae'])\n",
        "\n",
        "model.fit(X_train, y_train, epochs=200, batch_size=32, callbacks=[early_stopping], validation_split=0.2)\n",
        "y_pred = model.predict(X_test)\n"
      ],
      "metadata": {
        "colab": {
          "base_uri": "https://localhost:8080/"
        },
        "id": "ettMAUn9T8dR",
        "outputId": "76d6a8d9-13f4-4e87-9de9-cc6aab83af77"
      },
      "execution_count": 5,
      "outputs": [
        {
          "output_type": "stream",
          "name": "stderr",
          "text": [
            "/usr/local/lib/python3.11/dist-packages/keras/src/layers/core/dense.py:87: UserWarning: Do not pass an `input_shape`/`input_dim` argument to a layer. When using Sequential models, prefer using an `Input(shape)` object as the first layer in the model instead.\n",
            "  super().__init__(activity_regularizer=activity_regularizer, **kwargs)\n"
          ]
        },
        {
          "output_type": "stream",
          "name": "stdout",
          "text": [
            "Epoch 1/200\n",
            "\u001b[1m600/600\u001b[0m \u001b[32m━━━━━━━━━━━━━━━━━━━━\u001b[0m\u001b[37m\u001b[0m \u001b[1m4s\u001b[0m 3ms/step - loss: 0.0909 - mae: 0.1999 - val_loss: 0.0240 - val_mae: 0.1117\n",
            "Epoch 2/200\n",
            "\u001b[1m600/600\u001b[0m \u001b[32m━━━━━━━━━━━━━━━━━━━━\u001b[0m\u001b[37m\u001b[0m \u001b[1m1s\u001b[0m 2ms/step - loss: 0.0224 - mae: 0.1086 - val_loss: 0.0195 - val_mae: 0.1003\n",
            "Epoch 3/200\n",
            "\u001b[1m600/600\u001b[0m \u001b[32m━━━━━━━━━━━━━━━━━━━━\u001b[0m\u001b[37m\u001b[0m \u001b[1m1s\u001b[0m 2ms/step - loss: 0.0184 - mae: 0.0979 - val_loss: 0.0184 - val_mae: 0.1000\n",
            "Epoch 4/200\n",
            "\u001b[1m600/600\u001b[0m \u001b[32m━━━━━━━━━━━━━━━━━━━━\u001b[0m\u001b[37m\u001b[0m \u001b[1m1s\u001b[0m 2ms/step - loss: 0.0153 - mae: 0.0897 - val_loss: 0.0140 - val_mae: 0.0855\n",
            "Epoch 5/200\n",
            "\u001b[1m600/600\u001b[0m \u001b[32m━━━━━━━━━━━━━━━━━━━━\u001b[0m\u001b[37m\u001b[0m \u001b[1m1s\u001b[0m 2ms/step - loss: 0.0122 - mae: 0.0801 - val_loss: 0.0106 - val_mae: 0.0741\n",
            "Epoch 6/200\n",
            "\u001b[1m600/600\u001b[0m \u001b[32m━━━━━━━━━━━━━━━━━━━━\u001b[0m\u001b[37m\u001b[0m \u001b[1m1s\u001b[0m 2ms/step - loss: 0.0100 - mae: 0.0727 - val_loss: 0.0086 - val_mae: 0.0676\n",
            "Epoch 7/200\n",
            "\u001b[1m600/600\u001b[0m \u001b[32m━━━━━━━━━━━━━━━━━━━━\u001b[0m\u001b[37m\u001b[0m \u001b[1m1s\u001b[0m 2ms/step - loss: 0.0081 - mae: 0.0669 - val_loss: 0.0072 - val_mae: 0.0628\n",
            "Epoch 8/200\n",
            "\u001b[1m600/600\u001b[0m \u001b[32m━━━━━━━━━━━━━━━━━━━━\u001b[0m\u001b[37m\u001b[0m \u001b[1m1s\u001b[0m 2ms/step - loss: 0.0071 - mae: 0.0631 - val_loss: 0.0061 - val_mae: 0.0589\n",
            "Epoch 9/200\n",
            "\u001b[1m600/600\u001b[0m \u001b[32m━━━━━━━━━━━━━━━━━━━━\u001b[0m\u001b[37m\u001b[0m \u001b[1m1s\u001b[0m 2ms/step - loss: 0.0062 - mae: 0.0599 - val_loss: 0.0056 - val_mae: 0.0569\n",
            "Epoch 10/200\n",
            "\u001b[1m600/600\u001b[0m \u001b[32m━━━━━━━━━━━━━━━━━━━━\u001b[0m\u001b[37m\u001b[0m \u001b[1m2s\u001b[0m 3ms/step - loss: 0.0057 - mae: 0.0580 - val_loss: 0.0053 - val_mae: 0.0560\n",
            "Epoch 11/200\n",
            "\u001b[1m600/600\u001b[0m \u001b[32m━━━━━━━━━━━━━━━━━━━━\u001b[0m\u001b[37m\u001b[0m \u001b[1m2s\u001b[0m 2ms/step - loss: 0.0053 - mae: 0.0562 - val_loss: 0.0051 - val_mae: 0.0550\n",
            "Epoch 12/200\n",
            "\u001b[1m600/600\u001b[0m \u001b[32m━━━━━━━━━━━━━━━━━━━━\u001b[0m\u001b[37m\u001b[0m \u001b[1m2s\u001b[0m 2ms/step - loss: 0.0053 - mae: 0.0551 - val_loss: 0.0044 - val_mae: 0.0459\n",
            "Epoch 13/200\n",
            "\u001b[1m600/600\u001b[0m \u001b[32m━━━━━━━━━━━━━━━━━━━━\u001b[0m\u001b[37m\u001b[0m \u001b[1m1s\u001b[0m 2ms/step - loss: 0.0039 - mae: 0.0425 - val_loss: 0.0033 - val_mae: 0.0373\n",
            "Epoch 14/200\n",
            "\u001b[1m600/600\u001b[0m \u001b[32m━━━━━━━━━━━━━━━━━━━━\u001b[0m\u001b[37m\u001b[0m \u001b[1m1s\u001b[0m 2ms/step - loss: 0.0033 - mae: 0.0369 - val_loss: 0.0039 - val_mae: 0.0390\n",
            "Epoch 15/200\n",
            "\u001b[1m600/600\u001b[0m \u001b[32m━━━━━━━━━━━━━━━━━━━━\u001b[0m\u001b[37m\u001b[0m \u001b[1m1s\u001b[0m 2ms/step - loss: 0.0032 - mae: 0.0352 - val_loss: 0.0028 - val_mae: 0.0318\n",
            "Epoch 16/200\n",
            "\u001b[1m600/600\u001b[0m \u001b[32m━━━━━━━━━━━━━━━━━━━━\u001b[0m\u001b[37m\u001b[0m \u001b[1m1s\u001b[0m 2ms/step - loss: 0.0029 - mae: 0.0330 - val_loss: 0.0030 - val_mae: 0.0336\n",
            "Epoch 17/200\n",
            "\u001b[1m600/600\u001b[0m \u001b[32m━━━━━━━━━━━━━━━━━━━━\u001b[0m\u001b[37m\u001b[0m \u001b[1m1s\u001b[0m 2ms/step - loss: 0.0029 - mae: 0.0332 - val_loss: 0.0027 - val_mae: 0.0316\n",
            "Epoch 18/200\n",
            "\u001b[1m600/600\u001b[0m \u001b[32m━━━━━━━━━━━━━━━━━━━━\u001b[0m\u001b[37m\u001b[0m \u001b[1m1s\u001b[0m 2ms/step - loss: 0.0028 - mae: 0.0325 - val_loss: 0.0027 - val_mae: 0.0316\n",
            "Epoch 19/200\n",
            "\u001b[1m600/600\u001b[0m \u001b[32m━━━━━━━━━━━━━━━━━━━━\u001b[0m\u001b[37m\u001b[0m \u001b[1m2s\u001b[0m 3ms/step - loss: 0.0028 - mae: 0.0327 - val_loss: 0.0026 - val_mae: 0.0306\n",
            "Epoch 20/200\n",
            "\u001b[1m600/600\u001b[0m \u001b[32m━━━━━━━━━━━━━━━━━━━━\u001b[0m\u001b[37m\u001b[0m \u001b[1m2s\u001b[0m 3ms/step - loss: 0.0027 - mae: 0.0317 - val_loss: 0.0026 - val_mae: 0.0306\n",
            "Epoch 21/200\n",
            "\u001b[1m600/600\u001b[0m \u001b[32m━━━━━━━━━━━━━━━━━━━━\u001b[0m\u001b[37m\u001b[0m \u001b[1m2s\u001b[0m 3ms/step - loss: 0.0028 - mae: 0.0322 - val_loss: 0.0024 - val_mae: 0.0295\n",
            "Epoch 22/200\n",
            "\u001b[1m600/600\u001b[0m \u001b[32m━━━━━━━━━━━━━━━━━━━━\u001b[0m\u001b[37m\u001b[0m \u001b[1m2s\u001b[0m 2ms/step - loss: 0.0026 - mae: 0.0312 - val_loss: 0.0030 - val_mae: 0.0330\n",
            "Epoch 23/200\n",
            "\u001b[1m600/600\u001b[0m \u001b[32m━━━━━━━━━━━━━━━━━━━━\u001b[0m\u001b[37m\u001b[0m \u001b[1m1s\u001b[0m 2ms/step - loss: 0.0025 - mae: 0.0302 - val_loss: 0.0024 - val_mae: 0.0293\n",
            "Epoch 24/200\n",
            "\u001b[1m600/600\u001b[0m \u001b[32m━━━━━━━━━━━━━━━━━━━━\u001b[0m\u001b[37m\u001b[0m \u001b[1m1s\u001b[0m 2ms/step - loss: 0.0024 - mae: 0.0295 - val_loss: 0.0024 - val_mae: 0.0295\n",
            "Epoch 25/200\n",
            "\u001b[1m600/600\u001b[0m \u001b[32m━━━━━━━━━━━━━━━━━━━━\u001b[0m\u001b[37m\u001b[0m \u001b[1m1s\u001b[0m 2ms/step - loss: 0.0023 - mae: 0.0287 - val_loss: 0.0028 - val_mae: 0.0328\n",
            "Epoch 26/200\n",
            "\u001b[1m600/600\u001b[0m \u001b[32m━━━━━━━━━━━━━━━━━━━━\u001b[0m\u001b[37m\u001b[0m \u001b[1m1s\u001b[0m 2ms/step - loss: 0.0023 - mae: 0.0294 - val_loss: 0.0024 - val_mae: 0.0297\n",
            "Epoch 27/200\n",
            "\u001b[1m600/600\u001b[0m \u001b[32m━━━━━━━━━━━━━━━━━━━━\u001b[0m\u001b[37m\u001b[0m \u001b[1m1s\u001b[0m 2ms/step - loss: 0.0023 - mae: 0.0287 - val_loss: 0.0034 - val_mae: 0.0371\n",
            "Epoch 28/200\n",
            "\u001b[1m600/600\u001b[0m \u001b[32m━━━━━━━━━━━━━━━━━━━━\u001b[0m\u001b[37m\u001b[0m \u001b[1m1s\u001b[0m 2ms/step - loss: 0.0023 - mae: 0.0290 - val_loss: 0.0029 - val_mae: 0.0325\n",
            "Epoch 29/200\n",
            "\u001b[1m600/600\u001b[0m \u001b[32m━━━━━━━━━━━━━━━━━━━━\u001b[0m\u001b[37m\u001b[0m \u001b[1m2s\u001b[0m 2ms/step - loss: 0.0023 - mae: 0.0292 - val_loss: 0.0023 - val_mae: 0.0286\n",
            "Epoch 30/200\n",
            "\u001b[1m600/600\u001b[0m \u001b[32m━━━━━━━━━━━━━━━━━━━━\u001b[0m\u001b[37m\u001b[0m \u001b[1m3s\u001b[0m 3ms/step - loss: 0.0021 - mae: 0.0271 - val_loss: 0.0024 - val_mae: 0.0289\n",
            "Epoch 31/200\n",
            "\u001b[1m600/600\u001b[0m \u001b[32m━━━━━━━━━━━━━━━━━━━━\u001b[0m\u001b[37m\u001b[0m \u001b[1m2s\u001b[0m 2ms/step - loss: 0.0021 - mae: 0.0275 - val_loss: 0.0023 - val_mae: 0.0283\n",
            "Epoch 32/200\n",
            "\u001b[1m600/600\u001b[0m \u001b[32m━━━━━━━━━━━━━━━━━━━━\u001b[0m\u001b[37m\u001b[0m \u001b[1m1s\u001b[0m 2ms/step - loss: 0.0022 - mae: 0.0278 - val_loss: 0.0022 - val_mae: 0.0271\n",
            "Epoch 33/200\n",
            "\u001b[1m600/600\u001b[0m \u001b[32m━━━━━━━━━━━━━━━━━━━━\u001b[0m\u001b[37m\u001b[0m \u001b[1m1s\u001b[0m 2ms/step - loss: 0.0022 - mae: 0.0279 - val_loss: 0.0027 - val_mae: 0.0314\n",
            "Epoch 34/200\n",
            "\u001b[1m600/600\u001b[0m \u001b[32m━━━━━━━━━━━━━━━━━━━━\u001b[0m\u001b[37m\u001b[0m \u001b[1m1s\u001b[0m 2ms/step - loss: 0.0021 - mae: 0.0271 - val_loss: 0.0022 - val_mae: 0.0281\n",
            "Epoch 35/200\n",
            "\u001b[1m600/600\u001b[0m \u001b[32m━━━━━━━━━━━━━━━━━━━━\u001b[0m\u001b[37m\u001b[0m \u001b[1m1s\u001b[0m 2ms/step - loss: 0.0021 - mae: 0.0271 - val_loss: 0.0022 - val_mae: 0.0278\n",
            "Epoch 36/200\n",
            "\u001b[1m600/600\u001b[0m \u001b[32m━━━━━━━━━━━━━━━━━━━━\u001b[0m\u001b[37m\u001b[0m \u001b[1m1s\u001b[0m 2ms/step - loss: 0.0020 - mae: 0.0261 - val_loss: 0.0023 - val_mae: 0.0289\n",
            "Epoch 37/200\n",
            "\u001b[1m600/600\u001b[0m \u001b[32m━━━━━━━━━━━━━━━━━━━━\u001b[0m\u001b[37m\u001b[0m \u001b[1m1s\u001b[0m 2ms/step - loss: 0.0022 - mae: 0.0277 - val_loss: 0.0021 - val_mae: 0.0267\n",
            "Epoch 38/200\n",
            "\u001b[1m600/600\u001b[0m \u001b[32m━━━━━━━━━━━━━━━━━━━━\u001b[0m\u001b[37m\u001b[0m \u001b[1m2s\u001b[0m 2ms/step - loss: 0.0020 - mae: 0.0263 - val_loss: 0.0021 - val_mae: 0.0264\n",
            "Epoch 39/200\n",
            "\u001b[1m600/600\u001b[0m \u001b[32m━━━━━━━━━━━━━━━━━━━━\u001b[0m\u001b[37m\u001b[0m \u001b[1m3s\u001b[0m 3ms/step - loss: 0.0020 - mae: 0.0263 - val_loss: 0.0020 - val_mae: 0.0264\n",
            "Epoch 40/200\n",
            "\u001b[1m600/600\u001b[0m \u001b[32m━━━━━━━━━━━━━━━━━━━━\u001b[0m\u001b[37m\u001b[0m \u001b[1m2s\u001b[0m 2ms/step - loss: 0.0018 - mae: 0.0251 - val_loss: 0.0019 - val_mae: 0.0251\n",
            "Epoch 41/200\n",
            "\u001b[1m600/600\u001b[0m \u001b[32m━━━━━━━━━━━━━━━━━━━━\u001b[0m\u001b[37m\u001b[0m \u001b[1m1s\u001b[0m 2ms/step - loss: 0.0018 - mae: 0.0251 - val_loss: 0.0019 - val_mae: 0.0253\n",
            "Epoch 42/200\n",
            "\u001b[1m600/600\u001b[0m \u001b[32m━━━━━━━━━━━━━━━━━━━━\u001b[0m\u001b[37m\u001b[0m \u001b[1m1s\u001b[0m 2ms/step - loss: 0.0018 - mae: 0.0250 - val_loss: 0.0024 - val_mae: 0.0293\n",
            "Epoch 43/200\n",
            "\u001b[1m600/600\u001b[0m \u001b[32m━━━━━━━━━━━━━━━━━━━━\u001b[0m\u001b[37m\u001b[0m \u001b[1m1s\u001b[0m 2ms/step - loss: 0.0018 - mae: 0.0251 - val_loss: 0.0019 - val_mae: 0.0251\n",
            "Epoch 44/200\n",
            "\u001b[1m600/600\u001b[0m \u001b[32m━━━━━━━━━━━━━━━━━━━━\u001b[0m\u001b[37m\u001b[0m \u001b[1m1s\u001b[0m 2ms/step - loss: 0.0018 - mae: 0.0249 - val_loss: 0.0018 - val_mae: 0.0247\n",
            "Epoch 45/200\n",
            "\u001b[1m600/600\u001b[0m \u001b[32m━━━━━━━━━━━━━━━━━━━━\u001b[0m\u001b[37m\u001b[0m \u001b[1m1s\u001b[0m 2ms/step - loss: 0.0017 - mae: 0.0240 - val_loss: 0.0019 - val_mae: 0.0253\n",
            "Epoch 46/200\n",
            "\u001b[1m600/600\u001b[0m \u001b[32m━━━━━━━━━━━━━━━━━━━━\u001b[0m\u001b[37m\u001b[0m \u001b[1m1s\u001b[0m 2ms/step - loss: 0.0016 - mae: 0.0238 - val_loss: 0.0017 - val_mae: 0.0236\n",
            "Epoch 47/200\n",
            "\u001b[1m600/600\u001b[0m \u001b[32m━━━━━━━━━━━━━━━━━━━━\u001b[0m\u001b[37m\u001b[0m \u001b[1m1s\u001b[0m 2ms/step - loss: 0.0015 - mae: 0.0229 - val_loss: 0.0016 - val_mae: 0.0230\n",
            "Epoch 48/200\n",
            "\u001b[1m600/600\u001b[0m \u001b[32m━━━━━━━━━━━━━━━━━━━━\u001b[0m\u001b[37m\u001b[0m \u001b[1m2s\u001b[0m 3ms/step - loss: 0.0015 - mae: 0.0224 - val_loss: 0.0018 - val_mae: 0.0248\n",
            "Epoch 49/200\n",
            "\u001b[1m600/600\u001b[0m \u001b[32m━━━━━━━━━━━━━━━━━━━━\u001b[0m\u001b[37m\u001b[0m \u001b[1m2s\u001b[0m 3ms/step - loss: 0.0016 - mae: 0.0234 - val_loss: 0.0017 - val_mae: 0.0238\n",
            "Epoch 50/200\n",
            "\u001b[1m600/600\u001b[0m \u001b[32m━━━━━━━━━━━━━━━━━━━━\u001b[0m\u001b[37m\u001b[0m \u001b[1m2s\u001b[0m 2ms/step - loss: 0.0015 - mae: 0.0223 - val_loss: 0.0016 - val_mae: 0.0233\n",
            "Epoch 51/200\n",
            "\u001b[1m600/600\u001b[0m \u001b[32m━━━━━━━━━━━━━━━━━━━━\u001b[0m\u001b[37m\u001b[0m \u001b[1m1s\u001b[0m 2ms/step - loss: 0.0015 - mae: 0.0226 - val_loss: 0.0024 - val_mae: 0.0290\n",
            "Epoch 52/200\n",
            "\u001b[1m600/600\u001b[0m \u001b[32m━━━━━━━━━━━━━━━━━━━━\u001b[0m\u001b[37m\u001b[0m \u001b[1m1s\u001b[0m 2ms/step - loss: 0.0015 - mae: 0.0225 - val_loss: 0.0016 - val_mae: 0.0231\n",
            "Epoch 53/200\n",
            "\u001b[1m600/600\u001b[0m \u001b[32m━━━━━━━━━━━━━━━━━━━━\u001b[0m\u001b[37m\u001b[0m \u001b[1m1s\u001b[0m 2ms/step - loss: 0.0015 - mae: 0.0230 - val_loss: 0.0016 - val_mae: 0.0230\n",
            "Epoch 54/200\n",
            "\u001b[1m600/600\u001b[0m \u001b[32m━━━━━━━━━━━━━━━━━━━━\u001b[0m\u001b[37m\u001b[0m \u001b[1m1s\u001b[0m 2ms/step - loss: 0.0014 - mae: 0.0215 - val_loss: 0.0020 - val_mae: 0.0264\n",
            "Epoch 55/200\n",
            "\u001b[1m600/600\u001b[0m \u001b[32m━━━━━━━━━━━━━━━━━━━━\u001b[0m\u001b[37m\u001b[0m \u001b[1m1s\u001b[0m 2ms/step - loss: 0.0014 - mae: 0.0222 - val_loss: 0.0014 - val_mae: 0.0226\n",
            "Epoch 56/200\n",
            "\u001b[1m600/600\u001b[0m \u001b[32m━━━━━━━━━━━━━━━━━━━━\u001b[0m\u001b[37m\u001b[0m \u001b[1m1s\u001b[0m 2ms/step - loss: 0.0013 - mae: 0.0215 - val_loss: 0.0015 - val_mae: 0.0224\n",
            "Epoch 57/200\n",
            "\u001b[1m600/600\u001b[0m \u001b[32m━━━━━━━━━━━━━━━━━━━━\u001b[0m\u001b[37m\u001b[0m \u001b[1m1s\u001b[0m 2ms/step - loss: 0.0013 - mae: 0.0213 - val_loss: 0.0015 - val_mae: 0.0225\n",
            "Epoch 58/200\n",
            "\u001b[1m600/600\u001b[0m \u001b[32m━━━━━━━━━━━━━━━━━━━━\u001b[0m\u001b[37m\u001b[0m \u001b[1m1s\u001b[0m 2ms/step - loss: 0.0013 - mae: 0.0213 - val_loss: 0.0014 - val_mae: 0.0223\n",
            "Epoch 59/200\n",
            "\u001b[1m600/600\u001b[0m \u001b[32m━━━━━━━━━━━━━━━━━━━━\u001b[0m\u001b[37m\u001b[0m \u001b[1m2s\u001b[0m 3ms/step - loss: 0.0014 - mae: 0.0223 - val_loss: 0.0015 - val_mae: 0.0225\n",
            "Epoch 60/200\n",
            "\u001b[1m600/600\u001b[0m \u001b[32m━━━━━━━━━━━━━━━━━━━━\u001b[0m\u001b[37m\u001b[0m \u001b[1m2s\u001b[0m 2ms/step - loss: 0.0012 - mae: 0.0205 - val_loss: 0.0014 - val_mae: 0.0218\n",
            "Epoch 61/200\n",
            "\u001b[1m600/600\u001b[0m \u001b[32m━━━━━━━━━━━━━━━━━━━━\u001b[0m\u001b[37m\u001b[0m \u001b[1m1s\u001b[0m 2ms/step - loss: 0.0012 - mae: 0.0206 - val_loss: 0.0015 - val_mae: 0.0218\n",
            "Epoch 62/200\n",
            "\u001b[1m600/600\u001b[0m \u001b[32m━━━━━━━━━━━━━━━━━━━━\u001b[0m\u001b[37m\u001b[0m \u001b[1m1s\u001b[0m 2ms/step - loss: 0.0013 - mae: 0.0206 - val_loss: 0.0014 - val_mae: 0.0215\n",
            "Epoch 63/200\n",
            "\u001b[1m600/600\u001b[0m \u001b[32m━━━━━━━━━━━━━━━━━━━━\u001b[0m\u001b[37m\u001b[0m \u001b[1m1s\u001b[0m 2ms/step - loss: 0.0012 - mae: 0.0204 - val_loss: 0.0013 - val_mae: 0.0205\n",
            "Epoch 64/200\n",
            "\u001b[1m600/600\u001b[0m \u001b[32m━━━━━━━━━━━━━━━━━━━━\u001b[0m\u001b[37m\u001b[0m \u001b[1m1s\u001b[0m 2ms/step - loss: 0.0012 - mae: 0.0201 - val_loss: 0.0013 - val_mae: 0.0210\n",
            "Epoch 65/200\n",
            "\u001b[1m600/600\u001b[0m \u001b[32m━━━━━━━━━━━━━━━━━━━━\u001b[0m\u001b[37m\u001b[0m \u001b[1m1s\u001b[0m 2ms/step - loss: 0.0012 - mae: 0.0200 - val_loss: 0.0014 - val_mae: 0.0219\n",
            "Epoch 66/200\n",
            "\u001b[1m600/600\u001b[0m \u001b[32m━━━━━━━━━━━━━━━━━━━━\u001b[0m\u001b[37m\u001b[0m \u001b[1m1s\u001b[0m 2ms/step - loss: 0.0012 - mae: 0.0206 - val_loss: 0.0013 - val_mae: 0.0211\n",
            "Epoch 67/200\n",
            "\u001b[1m600/600\u001b[0m \u001b[32m━━━━━━━━━━━━━━━━━━━━\u001b[0m\u001b[37m\u001b[0m \u001b[1m1s\u001b[0m 2ms/step - loss: 0.0011 - mae: 0.0197 - val_loss: 0.0013 - val_mae: 0.0211\n",
            "Epoch 68/200\n",
            "\u001b[1m600/600\u001b[0m \u001b[32m━━━━━━━━━━━━━━━━━━━━\u001b[0m\u001b[37m\u001b[0m \u001b[1m1s\u001b[0m 2ms/step - loss: 0.0012 - mae: 0.0201 - val_loss: 0.0013 - val_mae: 0.0210\n",
            "Epoch 69/200\n",
            "\u001b[1m600/600\u001b[0m \u001b[32m━━━━━━━━━━━━━━━━━━━━\u001b[0m\u001b[37m\u001b[0m \u001b[1m1s\u001b[0m 2ms/step - loss: 0.0011 - mae: 0.0195 - val_loss: 0.0013 - val_mae: 0.0211\n",
            "Epoch 70/200\n",
            "\u001b[1m600/600\u001b[0m \u001b[32m━━━━━━━━━━━━━━━━━━━━\u001b[0m\u001b[37m\u001b[0m \u001b[1m3s\u001b[0m 3ms/step - loss: 0.0011 - mae: 0.0195 - val_loss: 0.0012 - val_mae: 0.0199\n",
            "Epoch 71/200\n",
            "\u001b[1m600/600\u001b[0m \u001b[32m━━━━━━━━━━━━━━━━━━━━\u001b[0m\u001b[37m\u001b[0m \u001b[1m2s\u001b[0m 2ms/step - loss: 0.0011 - mae: 0.0197 - val_loss: 0.0013 - val_mae: 0.0206\n",
            "Epoch 72/200\n",
            "\u001b[1m600/600\u001b[0m \u001b[32m━━━━━━━━━━━━━━━━━━━━\u001b[0m\u001b[37m\u001b[0m \u001b[1m1s\u001b[0m 2ms/step - loss: 0.0010 - mae: 0.0188 - val_loss: 0.0011 - val_mae: 0.0194\n",
            "Epoch 73/200\n",
            "\u001b[1m600/600\u001b[0m \u001b[32m━━━━━━━━━━━━━━━━━━━━\u001b[0m\u001b[37m\u001b[0m \u001b[1m1s\u001b[0m 2ms/step - loss: 0.0011 - mae: 0.0189 - val_loss: 0.0013 - val_mae: 0.0208\n",
            "Epoch 74/200\n",
            "\u001b[1m600/600\u001b[0m \u001b[32m━━━━━━━━━━━━━━━━━━━━\u001b[0m\u001b[37m\u001b[0m \u001b[1m1s\u001b[0m 2ms/step - loss: 0.0011 - mae: 0.0192 - val_loss: 0.0012 - val_mae: 0.0200\n",
            "Epoch 75/200\n",
            "\u001b[1m600/600\u001b[0m \u001b[32m━━━━━━━━━━━━━━━━━━━━\u001b[0m\u001b[37m\u001b[0m \u001b[1m1s\u001b[0m 2ms/step - loss: 0.0010 - mae: 0.0188 - val_loss: 0.0011 - val_mae: 0.0197\n",
            "Epoch 76/200\n",
            "\u001b[1m600/600\u001b[0m \u001b[32m━━━━━━━━━━━━━━━━━━━━\u001b[0m\u001b[37m\u001b[0m \u001b[1m1s\u001b[0m 2ms/step - loss: 0.0010 - mae: 0.0185 - val_loss: 0.0012 - val_mae: 0.0204\n",
            "Epoch 77/200\n",
            "\u001b[1m600/600\u001b[0m \u001b[32m━━━━━━━━━━━━━━━━━━━━\u001b[0m\u001b[37m\u001b[0m \u001b[1m1s\u001b[0m 2ms/step - loss: 9.8556e-04 - mae: 0.0183 - val_loss: 0.0011 - val_mae: 0.0187\n",
            "Epoch 78/200\n",
            "\u001b[1m600/600\u001b[0m \u001b[32m━━━━━━━━━━━━━━━━━━━━\u001b[0m\u001b[37m\u001b[0m \u001b[1m1s\u001b[0m 2ms/step - loss: 9.5042e-04 - mae: 0.0180 - val_loss: 0.0013 - val_mae: 0.0202\n",
            "Epoch 79/200\n",
            "\u001b[1m600/600\u001b[0m \u001b[32m━━━━━━━━━━━━━━━━━━━━\u001b[0m\u001b[37m\u001b[0m \u001b[1m2s\u001b[0m 3ms/step - loss: 9.7555e-04 - mae: 0.0182 - val_loss: 0.0011 - val_mae: 0.0191\n",
            "Epoch 80/200\n",
            "\u001b[1m600/600\u001b[0m \u001b[32m━━━━━━━━━━━━━━━━━━━━\u001b[0m\u001b[37m\u001b[0m \u001b[1m2s\u001b[0m 2ms/step - loss: 9.9311e-04 - mae: 0.0184 - val_loss: 0.0011 - val_mae: 0.0188\n",
            "Epoch 81/200\n",
            "\u001b[1m600/600\u001b[0m \u001b[32m━━━━━━━━━━━━━━━━━━━━\u001b[0m\u001b[37m\u001b[0m \u001b[1m2s\u001b[0m 2ms/step - loss: 0.0010 - mae: 0.0186 - val_loss: 0.0011 - val_mae: 0.0192\n",
            "Epoch 82/200\n",
            "\u001b[1m600/600\u001b[0m \u001b[32m━━━━━━━━━━━━━━━━━━━━\u001b[0m\u001b[37m\u001b[0m \u001b[1m1s\u001b[0m 2ms/step - loss: 9.0117e-04 - mae: 0.0174 - val_loss: 0.0011 - val_mae: 0.0191\n",
            "Epoch 83/200\n",
            "\u001b[1m600/600\u001b[0m \u001b[32m━━━━━━━━━━━━━━━━━━━━\u001b[0m\u001b[37m\u001b[0m \u001b[1m1s\u001b[0m 2ms/step - loss: 9.3746e-04 - mae: 0.0179 - val_loss: 0.0011 - val_mae: 0.0191\n",
            "Epoch 84/200\n",
            "\u001b[1m600/600\u001b[0m \u001b[32m━━━━━━━━━━━━━━━━━━━━\u001b[0m\u001b[37m\u001b[0m \u001b[1m1s\u001b[0m 2ms/step - loss: 9.1983e-04 - mae: 0.0178 - val_loss: 0.0010 - val_mae: 0.0182\n",
            "Epoch 85/200\n",
            "\u001b[1m600/600\u001b[0m \u001b[32m━━━━━━━━━━━━━━━━━━━━\u001b[0m\u001b[37m\u001b[0m \u001b[1m1s\u001b[0m 2ms/step - loss: 9.1555e-04 - mae: 0.0177 - val_loss: 0.0012 - val_mae: 0.0206\n",
            "Epoch 86/200\n",
            "\u001b[1m600/600\u001b[0m \u001b[32m━━━━━━━━━━━━━━━━━━━━\u001b[0m\u001b[37m\u001b[0m \u001b[1m1s\u001b[0m 2ms/step - loss: 8.8632e-04 - mae: 0.0174 - val_loss: 9.7318e-04 - val_mae: 0.0175\n",
            "Epoch 87/200\n",
            "\u001b[1m600/600\u001b[0m \u001b[32m━━━━━━━━━━━━━━━━━━━━\u001b[0m\u001b[37m\u001b[0m \u001b[1m1s\u001b[0m 2ms/step - loss: 9.1698e-04 - mae: 0.0176 - val_loss: 0.0012 - val_mae: 0.0204\n",
            "Epoch 88/200\n",
            "\u001b[1m600/600\u001b[0m \u001b[32m━━━━━━━━━━━━━━━━━━━━\u001b[0m\u001b[37m\u001b[0m \u001b[1m2s\u001b[0m 3ms/step - loss: 8.9135e-04 - mae: 0.0175 - val_loss: 9.8187e-04 - val_mae: 0.0179\n",
            "Epoch 89/200\n",
            "\u001b[1m600/600\u001b[0m \u001b[32m━━━━━━━━━━━━━━━━━━━━\u001b[0m\u001b[37m\u001b[0m \u001b[1m2s\u001b[0m 3ms/step - loss: 8.9294e-04 - mae: 0.0175 - val_loss: 0.0010 - val_mae: 0.0185\n",
            "Epoch 90/200\n",
            "\u001b[1m600/600\u001b[0m \u001b[32m━━━━━━━━━━━━━━━━━━━━\u001b[0m\u001b[37m\u001b[0m \u001b[1m2s\u001b[0m 2ms/step - loss: 8.3413e-04 - mae: 0.0168 - val_loss: 9.0335e-04 - val_mae: 0.0171\n",
            "Epoch 91/200\n",
            "\u001b[1m600/600\u001b[0m \u001b[32m━━━━━━━━━━━━━━━━━━━━\u001b[0m\u001b[37m\u001b[0m \u001b[1m1s\u001b[0m 2ms/step - loss: 8.7160e-04 - mae: 0.0174 - val_loss: 9.4813e-04 - val_mae: 0.0177\n",
            "Epoch 92/200\n",
            "\u001b[1m600/600\u001b[0m \u001b[32m━━━━━━━━━━━━━━━━━━━━\u001b[0m\u001b[37m\u001b[0m \u001b[1m1s\u001b[0m 2ms/step - loss: 8.4392e-04 - mae: 0.0171 - val_loss: 9.4942e-04 - val_mae: 0.0177\n",
            "Epoch 93/200\n",
            "\u001b[1m600/600\u001b[0m \u001b[32m━━━━━━━━━━━━━━━━━━━━\u001b[0m\u001b[37m\u001b[0m \u001b[1m1s\u001b[0m 2ms/step - loss: 8.6445e-04 - mae: 0.0173 - val_loss: 9.0520e-04 - val_mae: 0.0172\n",
            "Epoch 94/200\n",
            "\u001b[1m600/600\u001b[0m \u001b[32m━━━━━━━━━━━━━━━━━━━━\u001b[0m\u001b[37m\u001b[0m \u001b[1m1s\u001b[0m 2ms/step - loss: 8.6061e-04 - mae: 0.0173 - val_loss: 0.0011 - val_mae: 0.0186\n",
            "Epoch 95/200\n",
            "\u001b[1m600/600\u001b[0m \u001b[32m━━━━━━━━━━━━━━━━━━━━\u001b[0m\u001b[37m\u001b[0m \u001b[1m1s\u001b[0m 2ms/step - loss: 8.3499e-04 - mae: 0.0169 - val_loss: 0.0010 - val_mae: 0.0183\n",
            "Epoch 96/200\n",
            "\u001b[1m600/600\u001b[0m \u001b[32m━━━━━━━━━━━━━━━━━━━━\u001b[0m\u001b[37m\u001b[0m \u001b[1m1s\u001b[0m 2ms/step - loss: 8.8355e-04 - mae: 0.0175 - val_loss: 9.6408e-04 - val_mae: 0.0178\n",
            "Epoch 97/200\n",
            "\u001b[1m600/600\u001b[0m \u001b[32m━━━━━━━━━━━━━━━━━━━━\u001b[0m\u001b[37m\u001b[0m \u001b[1m1s\u001b[0m 2ms/step - loss: 8.7813e-04 - mae: 0.0176 - val_loss: 9.6902e-04 - val_mae: 0.0177\n",
            "Epoch 98/200\n",
            "\u001b[1m600/600\u001b[0m \u001b[32m━━━━━━━━━━━━━━━━━━━━\u001b[0m\u001b[37m\u001b[0m \u001b[1m2s\u001b[0m 3ms/step - loss: 8.1006e-04 - mae: 0.0167 - val_loss: 0.0010 - val_mae: 0.0182\n",
            "Epoch 99/200\n",
            "\u001b[1m600/600\u001b[0m \u001b[32m━━━━━━━━━━━━━━━━━━━━\u001b[0m\u001b[37m\u001b[0m \u001b[1m3s\u001b[0m 3ms/step - loss: 8.1780e-04 - mae: 0.0168 - val_loss: 0.0011 - val_mae: 0.0196\n",
            "Epoch 100/200\n",
            "\u001b[1m600/600\u001b[0m \u001b[32m━━━━━━━━━━━━━━━━━━━━\u001b[0m\u001b[37m\u001b[0m \u001b[1m1s\u001b[0m 2ms/step - loss: 7.9752e-04 - mae: 0.0165 - val_loss: 9.3083e-04 - val_mae: 0.0177\n",
            "\u001b[1m12/12\u001b[0m \u001b[32m━━━━━━━━━━━━━━━━━━━━\u001b[0m\u001b[37m\u001b[0m \u001b[1m0s\u001b[0m 5ms/step\n"
          ]
        }
      ]
    },
    {
      "cell_type": "markdown",
      "source": [
        "# Accuracy/Error"
      ],
      "metadata": {
        "id": "UefgSvMlp7W-"
      }
    },
    {
      "cell_type": "code",
      "source": [
        "from sklearn.metrics import mean_squared_error, mean_absolute_error, r2_score\n",
        "\n",
        "print(\"MSE:\", mean_squared_error(y_test, y_pred))\n",
        "print(\"MAE:\", mean_absolute_error(y_test, y_pred))\n",
        "print(\"R2 Score:\", r2_score(y_test, y_pred))\n"
      ],
      "metadata": {
        "colab": {
          "base_uri": "https://localhost:8080/"
        },
        "id": "7mIXXzQ2Tsqd",
        "outputId": "be316edd-f309-4779-bc0c-da54ea236fe2"
      },
      "execution_count": 6,
      "outputs": [
        {
          "output_type": "stream",
          "name": "stdout",
          "text": [
            "MSE: 0.0008810745202936232\n",
            "MAE: 0.016722451895475388\n",
            "R2 Score: 0.923731803894043\n"
          ]
        }
      ]
    }
  ]
}